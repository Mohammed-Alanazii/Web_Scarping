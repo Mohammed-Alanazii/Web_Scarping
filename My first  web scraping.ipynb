{
    "cells": [
        {
            "cell_type": "code",
            "execution_count": 13,
            "metadata": {},
            "outputs": [],
            "source": "from bs4 import BeautifulSoup\nimport requests\nimport time\nimport datetime\n\nimport smtplib"
        },
        {
            "cell_type": "code",
            "execution_count": 21,
            "metadata": {},
            "outputs": [
                {
                    "name": "stdout",
                    "output_type": "stream",
                    "text": "  Storytelling With Data: A Data Visualization Guide For BUSiness Professionals   Paperback \u2013 20 November 2015   SAR\u00a0227.30\n"
                }
            ],
            "source": "URL = 'https://www.amazon.sa/-/en/Storytelling-Data-Visualization-BUSiness-Professionals/dp/1119002257/?_encoding=UTF8&pf_rd_p=a0b11695-515d-4d26-95f4-ae7b38739784&pd_rd_wg=Z2477&pf_rd_r=MQBXSWZYA1SW9KWFKT74&content-id=amzn1.sym.a0b11695-515d-4d26-95f4-ae7b38739784&pd_rd_w=umBHN&pd_rd_r=0d1f4f70-dd74-4f00-bdc3-e495939d98dc&ref_=pd_gw_ci_mcx_mr_hp_atf_m'\n\nheaders = {\"User-Agent\": \"Mozilla/5.0 (Macintosh; Intel Mac OS X 10_15_7) AppleWebKit/605.1.15 (KHTML, like Gecko) Version/16.0 Safari/605.1.15\", \n    \"X-Amzn-Trace-Id\": \"Root=1-63209a1f-42019c3b671dbc3848c04ec5\"}\n\npage = requests.get(URL, headers=headers)\n\nsoup1 = BeautifulSoup(page.content, \"html.parser\")\n\ntitle = soup1.find(id=\"title\").getText()\nprice = soup1.find(id= \"price\").getText()\n\nprint (title,price)"
        },
        {
            "cell_type": "code",
            "execution_count": 23,
            "metadata": {},
            "outputs": [
                {
                    "name": "stdout",
                    "output_type": "stream",
                    "text": "2022-09-13\n"
                }
            ],
            "source": "import datetime\n\ndate = datetime.date.today()\nprint(date)"
        },
        {
            "cell_type": "code",
            "execution_count": 26,
            "metadata": {},
            "outputs": [],
            "source": "import csv\n\nheader = [\"Title\",\"Price\",\"Date\"]\ndata = [title, price, date]\n\nwith open (\"My_First_Web_Scraping_File.csv\",'w', encoding = 'UTF8') as file:\n    writer = csv.writer(file)\n    writer.writerow(header)\n    writer.writerow(data)"
        },
        {
            "cell_type": "code",
            "execution_count": 28,
            "metadata": {},
            "outputs": [
                {
                    "name": "stdout",
                    "output_type": "stream",
                    "text": "                                               Title       Price        Date\n0    Storytelling With Data: A Data Visualization...  SAR\u00a0227.30  2022-09-13\n"
                }
            ],
            "source": "import pandas as pd\n\ndf = pd.read_csv(\"My_First_Web_Scraping_File.csv\")\nprint (df)"
        },
        {
            "cell_type": "code",
            "execution_count": 29,
            "metadata": {},
            "outputs": [],
            "source": "with open('My_webscraping_firstfile.csv','a+', newline='', encoding= 'UTF8') as file:\n    writer = csv.writer(file)\n    writer.writerow(data)"
        },
        {
            "cell_type": "code",
            "execution_count": 33,
            "metadata": {},
            "outputs": [],
            "source": "def check_price():\n    URL = 'https://www.amazon.sa/-/en/Storytelling-Data-Visualization-BUSiness-Professionals/dp/1119002257/?_encoding=UTF8&pf_rd_p=a0b11695-515d-4d26-95f4-ae7b38739784&pd_rd_wg=Z2477&pf_rd_r=MQBXSWZYA1SW9KWFKT74&content-id=amzn1.sym.a0b11695-515d-4d26-95f4-ae7b38739784&pd_rd_w=umBHN&pd_rd_r=0d1f4f70-dd74-4f00-bdc3-e495939d98dc&ref_=pd_gw_ci_mcx_mr_hp_atf_m'\n\n    headers = {\"User-Agent\": \"Mozilla/5.0 (Macintosh; Intel Mac OS X 10_15_7) AppleWebKit/605.1.15 (KHTML, like Gecko) Version/16.0 Safari/605.1.15\", \n    \"X-Amzn-Trace-Id\": \"Root=1-63209a1f-42019c3b671dbc3848c04ec5\"}\n    page = requests.get(URL, headers=headers)\n\n    soup1 = BeautifulSoup(page.content, \"html.parser\")\n\n    title = soup1.find(id=\"title\").getText()\n    price = soup1.find(id= \"price\").getText()\n    \n    import datetime\n    date = datetime.date.today()\n    import csv\n\n    header = [\"Title\",\"Price\",\"Date\"]\n    data = [title, price, date]\n    with open('My_webscraping_firstfile.csv','a+', newline='', encoding= 'UTF8') as file:\n        writer = csv.writer(file)\n        writer.writerow(data)"
        },
        {
            "cell_type": "code",
            "execution_count": 42,
            "metadata": {},
            "outputs": [
                {
                    "ename": "KeyboardInterrupt",
                    "evalue": "",
                    "output_type": "error",
                    "traceback": [
                        "\u001b[0;31m---------------------------------------------------------------------------\u001b[0m",
                        "\u001b[0;31mKeyboardInterrupt\u001b[0m                         Traceback (most recent call last)",
                        "\u001b[0;32m/tmp/wsuser/ipykernel_164/364068478.py\u001b[0m in \u001b[0;36m<module>\u001b[0;34m\u001b[0m\n\u001b[1;32m      1\u001b[0m \u001b[0;32mwhile\u001b[0m \u001b[0;34m(\u001b[0m\u001b[0;32mTrue\u001b[0m\u001b[0;34m)\u001b[0m\u001b[0;34m:\u001b[0m\u001b[0;34m\u001b[0m\u001b[0;34m\u001b[0m\u001b[0m\n\u001b[1;32m      2\u001b[0m     \u001b[0mcheck_price\u001b[0m\u001b[0;34m(\u001b[0m\u001b[0;34m)\u001b[0m\u001b[0;34m\u001b[0m\u001b[0;34m\u001b[0m\u001b[0m\n\u001b[0;32m----> 3\u001b[0;31m     \u001b[0mtime\u001b[0m\u001b[0;34m.\u001b[0m\u001b[0msleep\u001b[0m\u001b[0;34m(\u001b[0m\u001b[0;36m5\u001b[0m\u001b[0;34m)\u001b[0m\u001b[0;34m\u001b[0m\u001b[0;34m\u001b[0m\u001b[0m\n\u001b[0m",
                        "\u001b[0;31mKeyboardInterrupt\u001b[0m: "
                    ]
                }
            ],
            "source": "while (True):\n    check_price()\n    time.sleep(5)"
        },
        {
            "cell_type": "code",
            "execution_count": 43,
            "metadata": {},
            "outputs": [
                {
                    "name": "stdout",
                    "output_type": "stream",
                    "text": "     Storytelling With Data: A Data Visualization Guide For BUSiness Professionals   Paperback \u2013 20 November 2015    \\\n0     Storytelling With Data: A Data Visualization...                                                                 \n1     Storytelling With Data: A Data Visualization...                                                                 \n2     Storytelling With Data: A Data Visualization...                                                                 \n3     Storytelling With Data: A Data Visualization...                                                                 \n4     Storytelling With Data: A Data Visualization...                                                                 \n5     Storytelling With Data: A Data Visualization...                                                                 \n6     Storytelling With Data: A Data Visualization...                                                                 \n7     Storytelling With Data: A Data Visualization...                                                                 \n8     Storytelling With Data: A Data Visualization...                                                                 \n9     Storytelling With Data: A Data Visualization...                                                                 \n10    Storytelling With Data: A Data Visualization...                                                                 \n11    Storytelling With Data: A Data Visualization...                                                                 \n12    Storytelling With Data: A Data Visualization...                                                                 \n13    Storytelling With Data: A Data Visualization...                                                                 \n14    Storytelling With Data: A Data Visualization...                                                                 \n15    Storytelling With Data: A Data Visualization...                                                                 \n16    Storytelling With Data: A Data Visualization...                                                                 \n17    Storytelling With Data: A Data Visualization...                                                                 \n18    Storytelling With Data: A Data Visualization...                                                                 \n\n    SAR\u00a0227.30  2022-09-13  \n0   SAR\u00a0227.30  2022-09-13  \n1   SAR\u00a0227.30  2022-09-13  \n2   SAR\u00a0227.30  2022-09-13  \n3   SAR\u00a0227.30  2022-09-13  \n4   SAR\u00a0227.30  2022-09-13  \n5   SAR\u00a0227.30  2022-09-13  \n6   SAR\u00a0227.30  2022-09-13  \n7   SAR\u00a0227.30  2022-09-13  \n8   SAR\u00a0227.30  2022-09-13  \n9   SAR\u00a0227.30  2022-09-13  \n10  SAR\u00a0227.30  2022-09-13  \n11  SAR\u00a0227.30  2022-09-13  \n12  SAR\u00a0227.30  2022-09-13  \n13  SAR\u00a0227.30  2022-09-13  \n14  SAR\u00a0227.30  2022-09-13  \n15  SAR\u00a0227.30  2022-09-13  \n16  SAR\u00a0227.30  2022-09-13  \n17  SAR\u00a0227.30  2022-09-13  \n18  SAR\u00a0227.30  2022-09-13  \n"
                }
            ],
            "source": "import pandas as pd\ndf= pd.read_csv('My_webscraping_firstfile.csv')\nprint(df)"
        },
        {
            "cell_type": "code",
            "execution_count": null,
            "metadata": {},
            "outputs": [],
            "source": ""
        }
    ],
    "metadata": {
        "kernelspec": {
            "display_name": "Python 3.9",
            "language": "python",
            "name": "python3"
        },
        "language_info": {
            "codemirror_mode": {
                "name": "ipython",
                "version": 3
            },
            "file_extension": ".py",
            "mimetype": "text/x-python",
            "name": "python",
            "nbconvert_exporter": "python",
            "pygments_lexer": "ipython3",
            "version": "3.9.12"
        }
    },
    "nbformat": 4,
    "nbformat_minor": 1
}