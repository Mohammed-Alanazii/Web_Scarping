{
 "cells":[
  {
   "cell_type":"code",
   "source":[
    "#import required libraries\n",
    "import pandas as pd\n",
    "from bs4 import BeautifulSoup\n",
    "import requests\n",
    "import datetime\n",
    "import time\n",
    "import csv"
   ],
   "execution_count":2,
   "outputs":[
    
   ],
   "metadata":{
    "datalore":{
     "node_id":"ZbzXwq0c8raBGDI5rMpxbg",
     "type":"CODE",
     "hide_input_from_viewers":false,
     "hide_output_from_viewers":false
    }
   }
  },
  {
   "cell_type":"code",
   "source":[
    "#assign url link to scarp\n",
    "\n",
    "url = 'https:\/\/www.goodreads.com\/book\/show\/17986418-naked-statistics?from_search=true&from_srp=true&qid=Sc184UxjMX&rank=1'\n",
    "headers = { \"User-Agent\": \"Mozilla\/5.0 (Macintosh; Intel Mac OS X 10_15_7) AppleWebKit\/537.36 (KHTML, like Gecko) Chrome\/104.0.0.0 Safari\/537.36\", \n",
    "    \"X-Amzn-Trace-Id\": \"Root=1-6322190b-64f055010bee060d2b58b89b\"}\n",
    "\n",
    "page = requests.get(url ,headers= headers)\n",
    "soup1 = BeautifulSoup(page.content, \"html.parser\")\n",
    "\n",
    "Title = soup1.find (id ='bookTitle').getText()\n",
    "Author = soup1.find (id = 'bookAuthors').getText()\n",
    "Date = datetime.date.today()\n",
    "\n",
    "print (Date)\n",
    "print(Title)\n",
    "print (Author)\n"
   ],
   "execution_count":5,
   "outputs":[
    {
     "name":"stdout",
     "text":[
      "2022-09-14\n",
      "\n",
      "      Naked Statistics: Stripping the Dread from the Data\n",
      "\n",
      "\n",
      "by\n",
      "\n",
      "\n",
      "Charles Wheelan\n",
      "\n",
      "\n",
      "\n"
     ],
     "output_type":"stream"
    }
   ],
   "metadata":{
    "datalore":{
     "node_id":"hki5r0EfEwAYxUFXVpjTQd",
     "type":"CODE",
     "hide_input_from_viewers":false,
     "hide_output_from_viewers":false
    }
   }
  },
  {
   "cell_type":"code",
   "source":[
    "import csv\n",
    "\n",
    "header = ['Date','Title','Author']\n",
    "data = [Date , Title, Author]\n",
    "\n",
    "with open('Goodreads_Book,csv','w',  encoding= 'UTF8') as file :\n",
    "    writer = csv.writer(file)\n",
    "    writer.writerow(header)\n",
    "    writer.writerow(data)"
   ],
   "execution_count":6,
   "outputs":[
    
   ],
   "metadata":{
    "datalore":{
     "node_id":"dOYbuvxHGxrKcDN4oKHh6O",
     "type":"CODE",
     "hide_input_from_viewers":false,
     "hide_output_from_viewers":false
    }
   }
  },
  {
   "cell_type":"code",
   "source":[
    "df = pd.read_csv('Goodreads_Book,csv')\n",
    "print (df)"
   ],
   "execution_count":9,
   "outputs":[
    {
     "name":"stdout",
     "text":[
      "         Date                                              Title  \\\n",
      "0  2022-09-14  \\n      Naked Statistics: Stripping the Dread ...   \n",
      "\n",
      "                            Author  \n",
      "0  \\nby\\n\\n\\nCharles Wheelan\\n\\n\\n  \n"
     ],
     "output_type":"stream"
    }
   ],
   "metadata":{
    "datalore":{
     "node_id":"U5U0jTyrBvmtOR8KWPkAsF",
     "type":"CODE",
     "hide_input_from_viewers":false,
     "hide_output_from_viewers":false
    }
   }
  },
  {
   "cell_type":"code",
   "source":[
    "with open('Goodreads_Book,csv', 'a+', encoding= 'UTF8') as file:\n",
    "    writer = csv.writer(file)\n",
    "    writer.writerow(data)"
   ],
   "execution_count":10,
   "outputs":[
    
   ],
   "metadata":{
    "datalore":{
     "node_id":"Iqr7TLuNnGR0Z97CGPP8SK",
     "type":"CODE",
     "hide_input_from_viewers":false,
     "hide_output_from_viewers":false
    }
   }
  },
  {
   "cell_type":"code",
   "source":[
    "def check_price():\n",
    "    url = 'https:\/\/www.goodreads.com\/book\/show\/17986418-naked-statistics?from_search=true&from_srp=true&qid=Sc184UxjMX&rank=1'\n",
    "    headers = { \"User-Agent\": \"Mozilla\/5.0 (Macintosh; Intel Mac OS X 10_15_7) AppleWebKit\/537.36 (KHTML, like Gecko) Chrome\/104.0.0.0 Safari\/537.36\", \n",
    "    \"X-Amzn-Trace-Id\": \"Root=1-6322190b-64f055010bee060d2b58b89b\"}\n",
    "\n",
    "    page = requests.get(url ,headers= headers)\n",
    "    soup1 = BeautifulSoup(page.content, \"html.parser\")\n",
    "\n",
    "    Title = soup1.find (id ='bookTitle').getText()\n",
    "    Author = soup1.find (id = 'bookAuthors').getText()\n",
    "    Date = datetime.date.today()\n",
    "    header = ['Date','Title','Author']\n",
    "    data = [Date , Title, Author]\n",
    "    with open('Goodreads_Book,csv', 'a+', encoding= 'UTF8') as file:\n",
    "        writer = csv.writer(file)\n",
    "        writer.writerow(data)"
   ],
   "execution_count":14,
   "outputs":[
    
   ],
   "metadata":{
    "datalore":{
     "node_id":"SGpp9IAi7KW02SXKWDaheu",
     "type":"CODE",
     "hide_input_from_viewers":false,
     "hide_output_from_viewers":false
    }
   }
  },
  {
   "cell_type":"code",
   "source":[
    "while (True):\n",
    "    check_price()\n",
    "    time.sleep(5)"
   ],
   "execution_count":17,
   "outputs":[
    {
     "ename":"AttributeError",
     "evalue":"AttributeError: 'NoneType' object has no attribute 'getText'",
     "traceback":[
      "\u001b[0;31m---------------------------------------------------------------------------",
      "Traceback (most recent call last)",
      "    at line 2 in <module>",
      "    at line 9 in check_price()",
      "AttributeError: 'NoneType' object has no attribute 'getText'"
     ],
     "output_type":"error"
    }
   ],
   "metadata":{
    "datalore":{
     "node_id":"Tg27tbhhsjBsbseliDE5JW",
     "type":"CODE",
     "hide_input_from_viewers":false,
     "hide_output_from_viewers":false
    }
   }
  },
  {
   "cell_type":"code",
   "source":[
    "df = pd.read_csv('Goodreads_Book,csv')\n",
    "print (df)"
   ],
   "execution_count":18,
   "outputs":[
    {
     "name":"stdout",
     "text":[
      "         Date                                              Title  \\\n",
      "0  2022-09-14  \\n      Naked Statistics: Stripping the Dread ...   \n",
      "1  2022-09-14  \\n      Naked Statistics: Stripping the Dread ...   \n",
      "2  2022-09-14  \\n      Naked Statistics: Stripping the Dread ...   \n",
      "3  2022-09-14  \\n      Naked Statistics: Stripping the Dread ...   \n",
      "\n",
      "                            Author  \n",
      "0  \\nby\\n\\n\\nCharles Wheelan\\n\\n\\n  \n",
      "1  \\nby\\n\\n\\nCharles Wheelan\\n\\n\\n  \n",
      "2  \\nby\\n\\n\\nCharles Wheelan\\n\\n\\n  \n",
      "3  \\nby\\n\\n\\nCharles Wheelan\\n\\n\\n  \n"
     ],
     "output_type":"stream"
    }
   ],
   "metadata":{
    "datalore":{
     "node_id":"iJQNRpD9BXAf8HkjqIKRld",
     "type":"CODE",
     "hide_input_from_viewers":false,
     "hide_output_from_viewers":false
    }
   }
  }
 ],
 "metadata":{
  "kernelspec":{
   "display_name":"Python",
   "language":"python",
   "name":"python"
  },
  "datalore":{
   "version":1,
   "computation_mode":"JUPYTER",
   "package_manager":"pip",
   "base_environment":"default",
   "packages":[
    
   ]
  }
 },
 "nbformat":4,
 "nbformat_minor":4
}